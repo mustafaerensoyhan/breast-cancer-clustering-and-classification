{
 "cells": [
  {
   "cell_type": "markdown",
   "metadata": {},
   "source": [
    "Step 1: Import libraries"
   ]
  },
  {
   "cell_type": "code",
   "execution_count": null,
   "metadata": {},
   "outputs": [],
   "source": [
    "import pandas as pd\n",
    "import numpy as np\n",
    "from sklearn.preprocessing import LabelEncoder"
   ]
  },
  {
   "cell_type": "markdown",
   "metadata": {},
   "source": [
    "Step 2: Load cleaned dataset"
   ]
  },
  {
   "cell_type": "code",
   "execution_count": null,
   "metadata": {},
   "outputs": [],
   "source": [
    "input_path = r\"path/to/your/input.csv\" # Replace with your actual input file path\n",
    "df = pd.read_csv(input_path)"
   ]
  },
  {
   "cell_type": "markdown",
   "metadata": {},
   "source": [
    "Step 3: Convert string ranges to numeric midpoints"
   ]
  },
  {
   "cell_type": "code",
   "execution_count": null,
   "metadata": {},
   "outputs": [],
   "source": [
    "def range_to_mid(val):\n",
    "    if isinstance(val, str) and '-' in val:\n",
    "        try:\n",
    "            low, high = map(int, val.split('-'))\n",
    "            return (low + high) / 2\n",
    "        except:\n",
    "            return np.nan\n",
    "    return val\n",
    "\n",
    "df['age_mid'] = df['age'].apply(range_to_mid)\n",
    "df['tumor_size_mid'] = df['tumor-size'].apply(range_to_mid)\n",
    "df['inv_nodes_mid'] = df['inv-nodes'].apply(range_to_mid)"
   ]
  },
  {
   "cell_type": "markdown",
   "metadata": {},
   "source": [
    "Step 4: Encode class label to binary BEFORE one-hot encoding"
   ]
  },
  {
   "cell_type": "code",
   "execution_count": null,
   "metadata": {},
   "outputs": [],
   "source": [
    "df['class_binary'] = df['Class'].map({\n",
    "    'no-recurrence-events': 0,\n",
    "    'recurrence-events': 1\n",
    "})"
   ]
  },
  {
   "cell_type": "markdown",
   "metadata": {},
   "source": [
    "Step 5: One-hot encode selected categorical variables"
   ]
  },
  {
   "cell_type": "code",
   "execution_count": null,
   "metadata": {},
   "outputs": [],
   "source": [
    "categorical_cols = ['menopause', 'node-caps', 'breast', 'breast-quad', 'irradiat']\n",
    "df_dummies = pd.get_dummies(df[categorical_cols], prefix_sep='_')\n",
    "\n",
    "# Merge one-hot encoded columns with original dataframe\n",
    "df_combined = pd.concat([df, df_dummies], axis=1)"
   ]
  },
  {
   "cell_type": "markdown",
   "metadata": {},
   "source": [
    "Step 6: Create additional engineered features"
   ]
  },
  {
   "cell_type": "code",
   "execution_count": null,
   "metadata": {},
   "outputs": [],
   "source": [
    "\n",
    "# Width of range-based features\n",
    "def range_width(val):\n",
    "    if isinstance(val, str) and '-' in val:\n",
    "        try:\n",
    "            low, high = map(int, val.split('-'))\n",
    "            return high - low\n",
    "        except:\n",
    "            return np.nan\n",
    "    return np.nan\n",
    "\n",
    "df_combined['age_range_width'] = df_combined['age'].apply(range_width)\n",
    "df_combined['tumor_size_range_width'] = df_combined['tumor-size'].apply(range_width)\n",
    "df_combined['inv_nodes_range_width'] = df_combined['inv-nodes'].apply(range_width)\n",
    "\n",
    "# Label encode range columns\n",
    "for col in ['age', 'tumor-size', 'inv-nodes']:\n",
    "    df_combined[f'{col}_label'] = LabelEncoder().fit_transform(df_combined[col])\n",
    "\n",
    "# New feature malignancy score\n",
    "df_combined['malignancy_score'] = df_combined['deg-malig'] * df_combined['tumor_size_mid']\n"
   ]
  },
  {
   "cell_type": "markdown",
   "metadata": {},
   "source": [
    "Step 7: Reorder columns with original features first"
   ]
  },
  {
   "cell_type": "code",
   "execution_count": null,
   "metadata": {},
   "outputs": [],
   "source": [
    "original_columns = ['age', 'menopause', 'tumor-size', 'inv-nodes', 'node-caps', 'breast', 'breast-quad', 'irradiat', 'deg-malig', 'Class']\n",
    "engineered_columns = [col for col in df_combined.columns if col not in original_columns]\n",
    "\n",
    "final_columns = original_columns + engineered_columns\n",
    "df_final = df_combined[final_columns]"
   ]
  },
  {
   "cell_type": "markdown",
   "metadata": {},
   "source": [
    "Step 8: Save final dataset"
   ]
  },
  {
   "cell_type": "code",
   "execution_count": null,
   "metadata": {},
   "outputs": [
    {
     "name": "stdout",
     "output_type": "stream",
     "text": [
      "✅ Feature-engineered dataset saved to: C:\\Users\\mustafaerensoyhan\\Downloads\\breast cancer clustering classification\\breast_cancer_feature_eng.csv\n",
      "📊 Final shape: (286, 35)\n"
     ]
    },
    {
     "data": {
      "text/html": [
       "<div>\n",
       "<style scoped>\n",
       "    .dataframe tbody tr th:only-of-type {\n",
       "        vertical-align: middle;\n",
       "    }\n",
       "\n",
       "    .dataframe tbody tr th {\n",
       "        vertical-align: top;\n",
       "    }\n",
       "\n",
       "    .dataframe thead th {\n",
       "        text-align: right;\n",
       "    }\n",
       "</style>\n",
       "<table border=\"1\" class=\"dataframe\">\n",
       "  <thead>\n",
       "    <tr style=\"text-align: right;\">\n",
       "      <th></th>\n",
       "      <th>age</th>\n",
       "      <th>menopause</th>\n",
       "      <th>tumor-size</th>\n",
       "      <th>inv-nodes</th>\n",
       "      <th>node-caps</th>\n",
       "      <th>breast</th>\n",
       "      <th>breast-quad</th>\n",
       "      <th>irradiat</th>\n",
       "      <th>deg-malig</th>\n",
       "      <th>Class</th>\n",
       "      <th>...</th>\n",
       "      <th>breast-quad_right_up</th>\n",
       "      <th>irradiat_no</th>\n",
       "      <th>irradiat_yes</th>\n",
       "      <th>age_range_width</th>\n",
       "      <th>tumor_size_range_width</th>\n",
       "      <th>inv_nodes_range_width</th>\n",
       "      <th>age_label</th>\n",
       "      <th>tumor-size_label</th>\n",
       "      <th>inv-nodes_label</th>\n",
       "      <th>malignancy_score</th>\n",
       "    </tr>\n",
       "  </thead>\n",
       "  <tbody>\n",
       "    <tr>\n",
       "      <th>0</th>\n",
       "      <td>40-49</td>\n",
       "      <td>premeno</td>\n",
       "      <td>15-19</td>\n",
       "      <td>0-2</td>\n",
       "      <td>yes</td>\n",
       "      <td>right</td>\n",
       "      <td>left_up</td>\n",
       "      <td>no</td>\n",
       "      <td>3</td>\n",
       "      <td>recurrence-events</td>\n",
       "      <td>...</td>\n",
       "      <td>False</td>\n",
       "      <td>True</td>\n",
       "      <td>False</td>\n",
       "      <td>9</td>\n",
       "      <td>4</td>\n",
       "      <td>2</td>\n",
       "      <td>2</td>\n",
       "      <td>2</td>\n",
       "      <td>0</td>\n",
       "      <td>51.0</td>\n",
       "    </tr>\n",
       "    <tr>\n",
       "      <th>1</th>\n",
       "      <td>50-59</td>\n",
       "      <td>ge40</td>\n",
       "      <td>15-19</td>\n",
       "      <td>0-2</td>\n",
       "      <td>no</td>\n",
       "      <td>right</td>\n",
       "      <td>central</td>\n",
       "      <td>no</td>\n",
       "      <td>1</td>\n",
       "      <td>no-recurrence-events</td>\n",
       "      <td>...</td>\n",
       "      <td>False</td>\n",
       "      <td>True</td>\n",
       "      <td>False</td>\n",
       "      <td>9</td>\n",
       "      <td>4</td>\n",
       "      <td>2</td>\n",
       "      <td>3</td>\n",
       "      <td>2</td>\n",
       "      <td>0</td>\n",
       "      <td>17.0</td>\n",
       "    </tr>\n",
       "    <tr>\n",
       "      <th>2</th>\n",
       "      <td>50-59</td>\n",
       "      <td>ge40</td>\n",
       "      <td>35-39</td>\n",
       "      <td>0-2</td>\n",
       "      <td>no</td>\n",
       "      <td>left</td>\n",
       "      <td>left_low</td>\n",
       "      <td>no</td>\n",
       "      <td>2</td>\n",
       "      <td>recurrence-events</td>\n",
       "      <td>...</td>\n",
       "      <td>False</td>\n",
       "      <td>True</td>\n",
       "      <td>False</td>\n",
       "      <td>9</td>\n",
       "      <td>4</td>\n",
       "      <td>2</td>\n",
       "      <td>3</td>\n",
       "      <td>6</td>\n",
       "      <td>0</td>\n",
       "      <td>74.0</td>\n",
       "    </tr>\n",
       "    <tr>\n",
       "      <th>3</th>\n",
       "      <td>40-49</td>\n",
       "      <td>premeno</td>\n",
       "      <td>35-39</td>\n",
       "      <td>0-2</td>\n",
       "      <td>yes</td>\n",
       "      <td>right</td>\n",
       "      <td>left_low</td>\n",
       "      <td>yes</td>\n",
       "      <td>3</td>\n",
       "      <td>no-recurrence-events</td>\n",
       "      <td>...</td>\n",
       "      <td>False</td>\n",
       "      <td>False</td>\n",
       "      <td>True</td>\n",
       "      <td>9</td>\n",
       "      <td>4</td>\n",
       "      <td>2</td>\n",
       "      <td>2</td>\n",
       "      <td>6</td>\n",
       "      <td>0</td>\n",
       "      <td>111.0</td>\n",
       "    </tr>\n",
       "    <tr>\n",
       "      <th>4</th>\n",
       "      <td>40-49</td>\n",
       "      <td>premeno</td>\n",
       "      <td>30-34</td>\n",
       "      <td>3-5</td>\n",
       "      <td>yes</td>\n",
       "      <td>left</td>\n",
       "      <td>right_up</td>\n",
       "      <td>no</td>\n",
       "      <td>2</td>\n",
       "      <td>recurrence-events</td>\n",
       "      <td>...</td>\n",
       "      <td>True</td>\n",
       "      <td>True</td>\n",
       "      <td>False</td>\n",
       "      <td>9</td>\n",
       "      <td>4</td>\n",
       "      <td>2</td>\n",
       "      <td>2</td>\n",
       "      <td>5</td>\n",
       "      <td>4</td>\n",
       "      <td>64.0</td>\n",
       "    </tr>\n",
       "  </tbody>\n",
       "</table>\n",
       "<p>5 rows × 35 columns</p>\n",
       "</div>"
      ],
      "text/plain": [
       "     age menopause tumor-size inv-nodes node-caps breast breast-quad irradiat  \\\n",
       "0  40-49   premeno      15-19       0-2       yes  right     left_up       no   \n",
       "1  50-59      ge40      15-19       0-2        no  right     central       no   \n",
       "2  50-59      ge40      35-39       0-2        no   left    left_low       no   \n",
       "3  40-49   premeno      35-39       0-2       yes  right    left_low      yes   \n",
       "4  40-49   premeno      30-34       3-5       yes   left    right_up       no   \n",
       "\n",
       "   deg-malig                 Class  ...  breast-quad_right_up  irradiat_no  \\\n",
       "0          3     recurrence-events  ...                 False         True   \n",
       "1          1  no-recurrence-events  ...                 False         True   \n",
       "2          2     recurrence-events  ...                 False         True   \n",
       "3          3  no-recurrence-events  ...                 False        False   \n",
       "4          2     recurrence-events  ...                  True         True   \n",
       "\n",
       "   irradiat_yes  age_range_width  tumor_size_range_width  \\\n",
       "0         False                9                       4   \n",
       "1         False                9                       4   \n",
       "2         False                9                       4   \n",
       "3          True                9                       4   \n",
       "4         False                9                       4   \n",
       "\n",
       "   inv_nodes_range_width  age_label  tumor-size_label  inv-nodes_label  \\\n",
       "0                      2          2                 2                0   \n",
       "1                      2          3                 2                0   \n",
       "2                      2          3                 6                0   \n",
       "3                      2          2                 6                0   \n",
       "4                      2          2                 5                4   \n",
       "\n",
       "   malignancy_score  \n",
       "0              51.0  \n",
       "1              17.0  \n",
       "2              74.0  \n",
       "3             111.0  \n",
       "4              64.0  \n",
       "\n",
       "[5 rows x 35 columns]"
      ]
     },
     "execution_count": 41,
     "metadata": {},
     "output_type": "execute_result"
    }
   ],
   "source": [
    "output_path = r\"path/to/your/output.csv\" # Replace with your actual output file path\n",
    "df_final.to_csv(output_path, index=False)\n",
    "\n",
    "print(f\"✅ Feature-engineered dataset saved to: {output_path}\")\n",
    "print(f\"📊 Final shape: {df_final.shape}\")\n",
    "df_final.head()\n"
   ]
  }
 ],
 "metadata": {
  "kernelspec": {
   "display_name": "Python 3",
   "language": "python",
   "name": "python3"
  },
  "language_info": {
   "codemirror_mode": {
    "name": "ipython",
    "version": 3
   },
   "file_extension": ".py",
   "mimetype": "text/x-python",
   "name": "python",
   "nbconvert_exporter": "python",
   "pygments_lexer": "ipython3",
   "version": "3.12.4"
  }
 },
 "nbformat": 4,
 "nbformat_minor": 2
}
